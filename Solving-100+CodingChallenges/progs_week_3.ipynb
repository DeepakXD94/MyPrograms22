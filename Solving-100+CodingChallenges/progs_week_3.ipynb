{
 "cells": [
  {
   "cell_type": "markdown",
   "metadata": {},
   "source": [
    "# Week - 3 Programming"
   ]
  },
  {
   "cell_type": "markdown",
   "metadata": {},
   "source": [
    "### Program - 1\n",
    "Write a program that prints as a list the lements of A that are NOT in list B.\n",
    "If the lists have the same elements, print an empty list.\n",
    "If list A is an empty list, print an empty list."
   ]
  },
  {
   "cell_type": "code",
   "execution_count": null,
   "metadata": {},
   "outputs": [],
   "source": [
    "list_a = [1,5,3,6,9]\n",
    "list_b = [5,9,2,4,8]\n",
    "listX = []\n",
    "\n",
    "for element in list_a:\n",
    "    if element not in list_b:\n",
    "        listX.append(element)\n",
    "\n",
    "print(listX)"
   ]
  },
  {
   "cell_type": "markdown",
   "metadata": {},
   "source": [
    "### Python program to calculate the distance between two points.\n",
    "The points are represented by two lists with three elements. The first element is the X-coordinate. The second element is Y-coordinate. The third element is Z-coordinate."
   ]
  },
  {
   "cell_type": "code",
   "execution_count": null,
   "metadata": {},
   "outputs": [],
   "source": [
    "import math\n",
    "pointA = []\n",
    "for i in range (3):\n",
    "    k = float(input(\"Enter the coordinate for point A.\"))\n",
    "    pointA.append(k)\n",
    "\n",
    "pointB= []\n",
    "for i in range (3):\n",
    "    L = float(input(\"Enter the coordinate for point B.\"))\n",
    "    pointB.append(L)\n",
    "\n",
    "print(pointA)\n",
    "print(pointB)\n",
    "\n",
    "print(\"Distance between the two points :\")\n",
    "\n",
    "X = (pointA[0] - pointB[0])**2\n",
    "Y = (pointA[1] - pointB[1])**2\n",
    "Z = (pointA[2] - pointB[2])**2\n",
    "\n",
    "addition = X + Y + Z\n",
    "dist = math.sqrt(addition)\n",
    "print(dist)"
   ]
  },
  {
   "cell_type": "markdown",
   "metadata": {},
   "source": [
    "### Program to print elements that are common in both lists.\n",
    "Print an empty list if no common elements exist.\n",
    "Do not assume that the lists have same length.\n",
    "Each element may appear only once in the list."
   ]
  },
  {
   "cell_type": "code",
   "execution_count": 22,
   "metadata": {},
   "outputs": [
    {
     "name": "stdout",
     "output_type": "stream",
     "text": [
      "[1, 2, 5, 6]\n"
     ]
    }
   ],
   "source": [
    "listA = [1,2,3,4,5,6]\n",
    "listB = [5,8,9,1,2,6]\n",
    "listX = []\n",
    "\n",
    "for element in listA:\n",
    "    if element in listB:\n",
    "        listX.append(element)\n",
    "\n",
    "print(listX)"
   ]
  },
  {
   "cell_type": "markdown",
   "metadata": {},
   "source": [
    "### Program to print the SECOND largest value in a list.\n",
    "If the list is empty or has only one element, print None."
   ]
  },
  {
   "cell_type": "code",
   "execution_count": 32,
   "metadata": {},
   "outputs": [
    {
     "name": "stdout",
     "output_type": "stream",
     "text": [
      "11\n"
     ]
    }
   ],
   "source": [
    "listA = [11,12.5,1,5,6,8,9]\n",
    "\n",
    "if len(listA) <= 1:\n",
    "    print(\"None\")\n",
    "else:\n",
    "    listZ = sorted(listA) # sorting the list\n",
    "    listZ.remove(max(listZ))\n",
    "    print(listZ[-1]) # Or print(listZ(max(listZ))), since the second largets is now THE LARGEST value in the list."
   ]
  },
  {
   "cell_type": "markdown",
   "metadata": {},
   "source": [
    "##### Method - II\n",
    "The above program assumes that the elements in list are distinct i.e., there exist no duplicate elements. The below program factors in the possibility of duplicate elements."
   ]
  },
  {
   "cell_type": "code",
   "execution_count": 28,
   "metadata": {},
   "outputs": [
    {
     "name": "stdout",
     "output_type": "stream",
     "text": [
      "11\n"
     ]
    }
   ],
   "source": [
    "myList = [11,12.5,1,5,6,8,9]\n",
    "\n",
    "if len(myList) > 1:\n",
    "    noDuplicates = set(myList) # Elminating duplicates by set() method.\n",
    "    noDuplicates.remove(max(noDuplicates))\n",
    "    print(max(noDuplicates))\n",
    "else:\n",
    "    print(\"None\")"
   ]
  },
  {
   "cell_type": "markdown",
   "metadata": {},
   "source": [
    "### Program to print the second smallest value in the list.\n",
    "If the list is empty or has only one lemeent, print None."
   ]
  },
  {
   "cell_type": "code",
   "execution_count": null,
   "metadata": {},
   "outputs": [],
   "source": [
    "list = [1,5,6,4,3,9,7,8,4,1]\n"
   ]
  }
 ],
 "metadata": {
  "kernelspec": {
   "display_name": "Python 3.10.5 ('Dataman')",
   "language": "python",
   "name": "python3"
  },
  "language_info": {
   "codemirror_mode": {
    "name": "ipython",
    "version": 3
   },
   "file_extension": ".py",
   "mimetype": "text/x-python",
   "name": "python",
   "nbconvert_exporter": "python",
   "pygments_lexer": "ipython3",
   "version": "3.10.5"
  },
  "orig_nbformat": 4,
  "vscode": {
   "interpreter": {
    "hash": "a36b3aecfc158218fe26b008aba2cb48cb8b062d8288cb2843b395773d964365"
   }
  }
 },
 "nbformat": 4,
 "nbformat_minor": 2
}
