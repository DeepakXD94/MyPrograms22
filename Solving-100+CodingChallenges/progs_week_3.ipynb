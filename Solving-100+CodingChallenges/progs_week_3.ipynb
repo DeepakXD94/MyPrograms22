{
 "cells": [
  {
   "cell_type": "markdown",
   "metadata": {},
   "source": [
    "# Week - 3 Programming"
   ]
  },
  {
   "cell_type": "markdown",
   "metadata": {},
   "source": [
    "### Program - 1\n",
    "Write a program that prints as a list the lements of A that are NOT in list B.\n",
    "If the lists have the same elements, print an empty list.\n",
    "If list A is an empty list, print an empty list."
   ]
  },
  {
   "cell_type": "code",
   "execution_count": 8,
   "metadata": {},
   "outputs": [
    {
     "name": "stdout",
     "output_type": "stream",
     "text": [
      "[1, 3, 6]\n"
     ]
    }
   ],
   "source": [
    "list_a = [1,5,3,6,9]\n",
    "list_b = [5,9,2,4,8]\n",
    "listX = []\n",
    "\n",
    "for element in list_a:\n",
    "    if element not in list_b:\n",
    "        listX.append(element)\n",
    "\n",
    "print(listX)"
   ]
  },
  {
   "cell_type": "markdown",
   "metadata": {},
   "source": [
    "### Python program to calculate the distance between two points.\n",
    "The points are represented by two lists with three elements. The first element is the X-coordinate. The second element is Y-coordinate. The third element is Z-coordinate."
   ]
  },
  {
   "cell_type": "code",
   "execution_count": 20,
   "metadata": {},
   "outputs": [
    {
     "name": "stdout",
     "output_type": "stream",
     "text": [
      "Distance between the two points :\n",
      "5.196152422706632\n"
     ]
    }
   ],
   "source": [
    "import math\n",
    "pointA = []\n",
    "for i in range (3):\n",
    "    k = float(input(\"Enter the coordinate for point A.\"))\n",
    "    pointA.append(k)\n",
    "\n",
    "pointB= []\n",
    "for i in range (3):\n",
    "    L = float(input(\"Enter the coordinate for point B.\"))\n",
    "    pointB.append(L)\n",
    "\n",
    "print(pointA)\n",
    "print(pointB)\n",
    "\n",
    "print(\"Distance between the two points :\")\n",
    "\n",
    "X = (pointA[0] - pointB[0])**2\n",
    "Y = (pointA[1] - pointB[1])**2\n",
    "Z = (pointA[2] - pointB[2])**2\n",
    "\n",
    "addition = X + Y + Z\n",
    "dist = math.sqrt(addition)\n",
    "print(dist)"
   ]
  },
  {
   "cell_type": "code",
   "execution_count": null,
   "metadata": {},
   "outputs": [],
   "source": []
  }
 ],
 "metadata": {
  "kernelspec": {
   "display_name": "Python 3.10.5 ('Dataman')",
   "language": "python",
   "name": "python3"
  },
  "language_info": {
   "codemirror_mode": {
    "name": "ipython",
    "version": 3
   },
   "file_extension": ".py",
   "mimetype": "text/x-python",
   "name": "python",
   "nbconvert_exporter": "python",
   "pygments_lexer": "ipython3",
   "version": "3.10.5"
  },
  "orig_nbformat": 4,
  "vscode": {
   "interpreter": {
    "hash": "a36b3aecfc158218fe26b008aba2cb48cb8b062d8288cb2843b395773d964365"
   }
  }
 },
 "nbformat": 4,
 "nbformat_minor": 2
}
