{
 "cells": [
  {
   "cell_type": "markdown",
   "metadata": {},
   "source": [
    "# Week - 3 Programming"
   ]
  },
  {
   "cell_type": "markdown",
   "metadata": {},
   "source": [
    "### Program - 1\n",
    "Write a program that prints as a list the lements of A that are NOT in list B.\n",
    "If the lists have the same elements, print an empty list.\n",
    "If list A is an empty list, print an empty list."
   ]
  },
  {
   "cell_type": "code",
   "execution_count": null,
   "metadata": {},
   "outputs": [],
   "source": [
    "list_a = [1,5,3,6,9]\n",
    "list_b = [5,9,2,4,8]\n",
    "listX = []\n",
    "\n",
    "for element in list_a:\n",
    "    if element not in list_b:\n",
    "        listX.append(element)\n",
    "\n",
    "print(listX)"
   ]
  },
  {
   "cell_type": "markdown",
   "metadata": {},
   "source": [
    "### Python program to calculate the distance between two points.\n",
    "The points are represented by two lists with three elements. The first element is the X-coordinate. The second element is Y-coordinate. The third element is Z-coordinate."
   ]
  },
  {
   "cell_type": "code",
   "execution_count": null,
   "metadata": {},
   "outputs": [],
   "source": [
    "import math\n",
    "pointA = []\n",
    "for i in range (3):\n",
    "    k = float(input(\"Enter the coordinate for point A.\"))\n",
    "    pointA.append(k)\n",
    "\n",
    "pointB= []\n",
    "for i in range (3):\n",
    "    L = float(input(\"Enter the coordinate for point B.\"))\n",
    "    pointB.append(L)\n",
    "\n",
    "print(pointA)\n",
    "print(pointB)\n",
    "\n",
    "print(\"Distance between the two points :\")\n",
    "\n",
    "X = (pointA[0] - pointB[0])**2\n",
    "Y = (pointA[1] - pointB[1])**2\n",
    "Z = (pointA[2] - pointB[2])**2\n",
    "\n",
    "addition = X + Y + Z\n",
    "dist = math.sqrt(addition)\n",
    "print(dist)"
   ]
  },
  {
   "cell_type": "markdown",
   "metadata": {},
   "source": [
    "### Program to print elements that are common in both lists.\n",
    "Print an empty list if no common elements exist.\n",
    "Do not assume that the lists have same length.\n",
    "Each element may appear only once in the list."
   ]
  },
  {
   "cell_type": "code",
   "execution_count": null,
   "metadata": {},
   "outputs": [],
   "source": [
    "listA = [1,2,3,4,5,6]\n",
    "listB = [5,8,9,1,2,6]\n",
    "listX = []\n",
    "\n",
    "for element in listA:\n",
    "    if element in listB:\n",
    "        listX.append(element)\n",
    "\n",
    "print(listX)"
   ]
  },
  {
   "cell_type": "markdown",
   "metadata": {},
   "source": [
    "### Program to print the SECOND largest value in a list.\n",
    "If the list is empty or has only one element, print None."
   ]
  },
  {
   "cell_type": "code",
   "execution_count": null,
   "metadata": {},
   "outputs": [],
   "source": [
    "listA = [11,12.5,1,5,6,8,9]\n",
    "\n",
    "if len(listA) <= 1:\n",
    "    print(\"None\")\n",
    "else:\n",
    "    listZ = sorted(listA) # sorting the list\n",
    "    listZ.remove(max(listZ))\n",
    "    print(listZ[-1]) # Or print(listZ(max(listZ))), since the second largets is now THE LARGEST value in the list."
   ]
  },
  {
   "cell_type": "markdown",
   "metadata": {},
   "source": [
    "##### Method - II\n",
    "The above program assumes that the elements in list are distinct i.e., there exist no duplicate elements. The below program factors in the possibility of duplicate elements."
   ]
  },
  {
   "cell_type": "code",
   "execution_count": null,
   "metadata": {},
   "outputs": [],
   "source": [
    "myList = [11,12.5,1,5,6,8,9]\n",
    "\n",
    "if len(myList) > 1:\n",
    "    noDuplicates = set(myList) # Elminating duplicates by set() method.\n",
    "    noDuplicates.remove(max(noDuplicates))\n",
    "    print(max(noDuplicates))\n",
    "else:\n",
    "    print(\"None\")"
   ]
  },
  {
   "cell_type": "markdown",
   "metadata": {},
   "source": [
    "### Program to print the second smallest value in the list.\n",
    "If the list is empty or has only one elment, print None."
   ]
  },
  {
   "cell_type": "code",
   "execution_count": null,
   "metadata": {},
   "outputs": [],
   "source": [
    "list = [5,5,6,4,2,9,1,7,8,4,1]\n",
    "\n",
    "if len(list) > 1:\n",
    "    noDuplicates = set(list)\n",
    "    noDuplicates.remove(min(noDuplicates))\n",
    "    print(min(noDuplicates))\n",
    "else:\n",
    "    print(\"None\")    "
   ]
  },
  {
   "cell_type": "markdown",
   "metadata": {},
   "source": [
    "### Method - II \n",
    "This method assumes that the elements in the list are distinct."
   ]
  },
  {
   "cell_type": "code",
   "execution_count": null,
   "metadata": {},
   "outputs": [],
   "source": [
    "list = [5,6,4,2,9,7,8,1]\n",
    "\n",
    "if len(list) > 1:\n",
    "    sorted_list = sorted(list)\n",
    "    print(sorted_list[1])\n",
    "else:\n",
    "    print(\"None\")"
   ]
  },
  {
   "cell_type": "markdown",
   "metadata": {},
   "source": [
    "### Program that maps each element in a list as a dictionary key to its frquency.\n",
    "* Case-sensitive. "
   ]
  },
  {
   "cell_type": "code",
   "execution_count": null,
   "metadata": {},
   "outputs": [],
   "source": [
    "list = [1,\"f\",5,\"o\",\"p\",1,5,5,'f','p','o','f','a','b','c','v','b','c']\n",
    "\n",
    "dict_list = {}\n",
    "\n",
    "for char in list:\n",
    "    if char not in dict_list:\n",
    "        dict_list[char] = 1\n",
    "    else:\n",
    "        dict_list[char] += 1\n",
    "print(\"The frequency mapping dictionary :\")\n",
    "print(dict_list)"
   ]
  },
  {
   "cell_type": "markdown",
   "metadata": {},
   "source": [
    "## Python program that prints a \"flattened\" version of a list that contains nested lists.\n",
    "* Flattened as in , there should just be one main list that contains all the elements.\n",
    "* If the list is empty, print an empty list."
   ]
  },
  {
   "cell_type": "code",
   "execution_count": 58,
   "metadata": {},
   "outputs": [
    {
     "name": "stdout",
     "output_type": "stream",
     "text": [
      "[1, 2, 3, 5, 4, 6, 8, 9, 7]\n"
     ]
    }
   ],
   "source": [
    "list1 = [\n",
    "    [1,2,3],\n",
    "    [5,4,6],\n",
    "    [8,9,7]\n",
    "]\n",
    "list2 = []\n",
    "\n",
    "if len(list1) > 0:\n",
    "    for i in list1:\n",
    "        for j in i:\n",
    "            list2.append(j)\n",
    "else:\n",
    "    print(list1)\n",
    "    \n",
    "print(list2)"
   ]
  },
  {
   "cell_type": "markdown",
   "metadata": {},
   "source": [
    "## Program to print all the possible permutations of a list.\n",
    "1. A permutation is a possible arrangement of the elements of the list. For example, [2 1 3] is a permutation of [1, 2,3].\n",
    "2. Print each permutation as a list on a seaparate line. Can be printed as lists or tuples.\n",
    "3. Include the list itself as  premutation."
   ]
  },
  {
   "cell_type": "code",
   "execution_count": 68,
   "metadata": {},
   "outputs": [
    {
     "ename": "TypeError",
     "evalue": "'list' object is not callable",
     "output_type": "error",
     "traceback": [
      "\u001b[1;31m---------------------------------------------------------------------------\u001b[0m",
      "\u001b[1;31mTypeError\u001b[0m                                 Traceback (most recent call last)",
      "\u001b[1;32m~\\AppData\\Local\\Temp\\ipykernel_9484\\1667088471.py\u001b[0m in \u001b[0;36m<cell line: 4>\u001b[1;34m()\u001b[0m\n\u001b[0;32m      2\u001b[0m \u001b[0mlist1\u001b[0m \u001b[1;33m=\u001b[0m \u001b[1;33m[\u001b[0m\u001b[1;36m1\u001b[0m\u001b[1;33m,\u001b[0m\u001b[1;36m9\u001b[0m\u001b[1;33m,\u001b[0m\u001b[1;36m5\u001b[0m\u001b[1;33m,\u001b[0m\u001b[1;36m3\u001b[0m\u001b[1;33m,\u001b[0m\u001b[1;36m6\u001b[0m\u001b[1;33m,\u001b[0m\u001b[1;36m7\u001b[0m\u001b[1;33m,\u001b[0m\u001b[1;36m4\u001b[0m\u001b[1;33m]\u001b[0m\u001b[1;33m\u001b[0m\u001b[1;33m\u001b[0m\u001b[0m\n\u001b[0;32m      3\u001b[0m \u001b[1;33m\u001b[0m\u001b[0m\n\u001b[1;32m----> 4\u001b[1;33m \u001b[0mpermuts\u001b[0m \u001b[1;33m=\u001b[0m \u001b[0mlist\u001b[0m\u001b[1;33m(\u001b[0m\u001b[0mitertools\u001b[0m\u001b[1;33m.\u001b[0m\u001b[0mpermutations\u001b[0m\u001b[1;33m(\u001b[0m\u001b[0mlist1\u001b[0m\u001b[1;33m)\u001b[0m\u001b[1;33m)\u001b[0m\u001b[1;33m\u001b[0m\u001b[1;33m\u001b[0m\u001b[0m\n\u001b[0m\u001b[0;32m      5\u001b[0m \u001b[1;33m\u001b[0m\u001b[0m\n\u001b[0;32m      6\u001b[0m \u001b[1;32mfor\u001b[0m \u001b[0mpermutation\u001b[0m \u001b[1;32min\u001b[0m \u001b[0mpermuts\u001b[0m\u001b[1;33m:\u001b[0m\u001b[1;33m\u001b[0m\u001b[1;33m\u001b[0m\u001b[0m\n",
      "\u001b[1;31mTypeError\u001b[0m: 'list' object is not callable"
     ]
    }
   ],
   "source": [
    "import itertools\n",
    "list1 = [1,9,5,3,6,7,4]\n",
    "\n",
    "permuts = list(itertools.permutations(list1))\n",
    "\n",
    "for permutation in permuts:\n",
    "    print(list(permutation))\n"
   ]
  }
 ],
 "metadata": {
  "kernelspec": {
   "display_name": "Python 3.10.5 ('Dataman')",
   "language": "python",
   "name": "python3"
  },
  "language_info": {
   "codemirror_mode": {
    "name": "ipython",
    "version": 3
   },
   "file_extension": ".py",
   "mimetype": "text/x-python",
   "name": "python",
   "nbconvert_exporter": "python",
   "pygments_lexer": "ipython3",
   "version": "3.10.5"
  },
  "orig_nbformat": 4,
  "vscode": {
   "interpreter": {
    "hash": "a36b3aecfc158218fe26b008aba2cb48cb8b062d8288cb2843b395773d964365"
   }
  }
 },
 "nbformat": 4,
 "nbformat_minor": 2
}
