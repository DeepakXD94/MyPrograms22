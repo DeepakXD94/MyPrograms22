{
 "cells": [
  {
   "cell_type": "markdown",
   "metadata": {},
   "source": [
    "### Program that checks if a key exists in a dictionary or not.\n",
    "If the key exists, print True.\n",
    "Else, print False.\n",
    "The key should be stored in the variable key."
   ]
  },
  {
   "cell_type": "code",
   "execution_count": null,
   "metadata": {},
   "outputs": [],
   "source": [
    "dict_1 = {\n",
    "    'a' : 4,\n",
    "    'b' : 6,\n",
    "    'c' : 3,\n",
    "    'd' : 9\n",
    "}\n",
    "key = 'b'\n",
    "\n",
    "if key in dict_1:\n",
    "    print(\"True\")\n",
    "else:\n",
    "    print(\"False\")"
   ]
  },
  {
   "cell_type": "markdown",
   "metadata": {},
   "source": [
    "#### Method - II"
   ]
  },
  {
   "cell_type": "code",
   "execution_count": null,
   "metadata": {},
   "outputs": [],
   "source": [
    "dict_1 = {\n",
    "    'a' : 4,\n",
    "    'b' : 6,\n",
    "    'c' : 3,\n",
    "    'd' : 9\n",
    "}\n",
    "key = 'b'\n",
    "print(key in dict_1)"
   ]
  },
  {
   "cell_type": "markdown",
   "metadata": {},
   "source": [
    "### Program to add a new key-value pair to a dictionary only if the key doesn't exist already.\n",
    "1. If the key-value pair exists in the dictionary, do not update the existing value. The dictionary should not be modified in this case.\n",
    "2. Store the new key in the new_key variable and the new_value variable.\n",
    "3. Print the final value in the dictionary."
   ]
  },
  {
   "cell_type": "code",
   "execution_count": null,
   "metadata": {},
   "outputs": [],
   "source": [
    "dict1 = {\"January\": 45,\n",
    "         \"February\": 56,\n",
    "         \"March\": 67\n",
    "        }\n",
    "\n",
    "key = 'April'\n",
    "value = 55\n",
    "if key not in dict1:\n",
    "    dict1[key] = value\n",
    "\n",
    "print(dict1)"
   ]
  },
  {
   "cell_type": "code",
   "execution_count": null,
   "metadata": {},
   "outputs": [],
   "source": []
  }
 ],
 "metadata": {
  "kernelspec": {
   "display_name": "Python 3.10.5 ('Dataman')",
   "language": "python",
   "name": "python3"
  },
  "language_info": {
   "codemirror_mode": {
    "name": "ipython",
    "version": 3
   },
   "file_extension": ".py",
   "mimetype": "text/x-python",
   "name": "python",
   "nbconvert_exporter": "python",
   "pygments_lexer": "ipython3",
   "version": "3.10.5"
  },
  "orig_nbformat": 4,
  "vscode": {
   "interpreter": {
    "hash": "a36b3aecfc158218fe26b008aba2cb48cb8b062d8288cb2843b395773d964365"
   }
  }
 },
 "nbformat": 4,
 "nbformat_minor": 2
}
