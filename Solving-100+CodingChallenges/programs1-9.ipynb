{
 "cells": [
  {
   "cell_type": "markdown",
   "metadata": {},
   "source": [
    "### Programs 1 to 9\n",
    "Python program to print the length of a string. "
   ]
  },
  {
   "cell_type": "code",
   "execution_count": null,
   "metadata": {},
   "outputs": [],
   "source": [
    "x = input(\"Enter the string : \")\n",
    "print(len(x))"
   ]
  },
  {
   "cell_type": "markdown",
   "metadata": {},
   "source": [
    "# Program to print the character at index i in the string s."
   ]
  },
  {
   "cell_type": "markdown",
   "metadata": {},
   "source": [
    "### Method - I"
   ]
  },
  {
   "cell_type": "code",
   "execution_count": null,
   "metadata": {},
   "outputs": [],
   "source": [
    "str = input(\"Enter the string :\")\n",
    "i = int(input(\"Enter the index : \"))\n",
    "if len(str) == 0:\n",
    "    print(\"Empty String\")    \n",
    "elif i < len(str):\n",
    "    print(str[i])\n",
    "else:\n",
    "    print(f\"{i} is out of range.\")"
   ]
  },
  {
   "cell_type": "markdown",
   "metadata": {},
   "source": [
    "### Method - II"
   ]
  },
  {
   "cell_type": "code",
   "execution_count": null,
   "metadata": {},
   "outputs": [],
   "source": [
    "str = input(\"Enter the string : \")\n",
    "i = int(input(\"Enter the index : \"))\n",
    "\n",
    "if not str:\n",
    "    print(\"Empty string\")\n",
    "elif i < len(str):\n",
    "    print(str[i])\n",
    "else:\n",
    "    print(f\"{i} is out of range.\")"
   ]
  },
  {
   "cell_type": "markdown",
   "metadata": {},
   "source": [
    "# Program that takes a string and prints it in reverse."
   ]
  },
  {
   "cell_type": "markdown",
   "metadata": {},
   "source": [
    "### Method -I string slicing"
   ]
  },
  {
   "cell_type": "code",
   "execution_count": null,
   "metadata": {},
   "outputs": [],
   "source": [
    "str = input(\"Input the string :\")\n",
    "if not str:\n",
    "    print(\"Empty String\")\n",
    "else:\n",
    "    print(str[::-1]) # string[start:stop:step]"
   ]
  },
  {
   "cell_type": "markdown",
   "metadata": {},
   "source": [
    "### Method - II String reverse join"
   ]
  },
  {
   "cell_type": "code",
   "execution_count": null,
   "metadata": {},
   "outputs": [],
   "source": [
    "str = input(\"Input the string :\")\n",
    "reversed_word = \"\".join(reversed(str))\n",
    "print(reversed_word)"
   ]
  },
  {
   "cell_type": "markdown",
   "metadata": {},
   "source": [
    "# Program that prints the first and last 3 chracters of a string as a single string and prints an empty string if the input string has less than 6 characters."
   ]
  },
  {
   "cell_type": "markdown",
   "metadata": {},
   "source": [
    "# Method - I"
   ]
  },
  {
   "cell_type": "code",
   "execution_count": null,
   "metadata": {},
   "outputs": [],
   "source": [
    "str1= input(\"Enter the string:\")\n",
    "str2 = []\n",
    "if len(str1) < 6:\n",
    "    print(\"\")\n",
    "else:\n",
    "    str2.append(str1[:3])\n",
    "    str2.append(str1[-3:])\n",
    "    x = \"\".join(str2)\n",
    "\n",
    "print(x)"
   ]
  },
  {
   "cell_type": "markdown",
   "metadata": {},
   "source": [
    "### Method -II"
   ]
  },
  {
   "cell_type": "code",
   "execution_count": null,
   "metadata": {},
   "outputs": [],
   "source": [
    "str1= input(\"Enter the string:\")\n",
    "print(str1)\n",
    "if len(str1) < 6:\n",
    "    print(\"\")\n",
    "else:\n",
    "    str3 = str1[:3] + str1[-3:]\n",
    "    print(str3)"
   ]
  },
  {
   "cell_type": "markdown",
   "metadata": {},
   "source": [
    "### Method - II\n"
   ]
  },
  {
   "cell_type": "code",
   "execution_count": null,
   "metadata": {},
   "outputs": [],
   "source": [
    "num_chars = 3\n",
    "str = input(\"Enter string :\")\n",
    "print(str)\n",
    "if len(str) < (num_chars*2):\n",
    "    print(\"\")\n",
    "else:\n",
    "    str2 = str[:num_chars] + str[-num_chars:]\n",
    "print(str2)"
   ]
  },
  {
   "cell_type": "markdown",
   "metadata": {},
   "source": [
    "# Program that prints the string s without charcaters located at even indices."
   ]
  },
  {
   "cell_type": "markdown",
   "metadata": {},
   "source": [
    "### Using while Loop"
   ]
  },
  {
   "cell_type": "code",
   "execution_count": null,
   "metadata": {},
   "outputs": [],
   "source": [
    "s = 'microsoftExcel'\n",
    "i = 1\n",
    "k = ''\n",
    "while i <= len(s):\n",
    "    k += s[i]\n",
    "    i += 2\n",
    "\n",
    "print(k)"
   ]
  },
  {
   "cell_type": "markdown",
   "metadata": {},
   "source": [
    "### Using for loop without step inside the range parameter."
   ]
  },
  {
   "cell_type": "code",
   "execution_count": null,
   "metadata": {},
   "outputs": [],
   "source": [
    "s = 'microsoft'\n",
    "t = ''\n",
    "for i in range(len(s)):\n",
    "    if i % 2 != 0:\n",
    "        t += s[i]\n",
    "print(t)        "
   ]
  },
  {
   "cell_type": "markdown",
   "metadata": {},
   "source": [
    "### Using for loop with step argument inside the range attribute."
   ]
  },
  {
   "cell_type": "code",
   "execution_count": null,
   "metadata": {},
   "outputs": [],
   "source": [
    "s = 'microsoft'\n",
    "t = ''\n",
    "for i in range(1, len(s),2):\n",
    "    t += s[i]\n",
    "print(t)  "
   ]
  },
  {
   "cell_type": "markdown",
   "metadata": {},
   "source": [
    "# Python program to check if a string only contains numbers.\n"
   ]
  },
  {
   "cell_type": "code",
   "execution_count": null,
   "metadata": {},
   "outputs": [],
   "source": [
    "def numero():\n",
    "    str = input(\"Enter the string\")\n",
    "    x = str.isdecimal()\n",
    "    if x is True:\n",
    "        return True\n",
    "    else:\n",
    "        return False\n",
    "\n",
    "numero()"
   ]
  },
  {
   "cell_type": "markdown",
   "metadata": {},
   "source": [
    "### Short Version\n"
   ]
  },
  {
   "cell_type": "code",
   "execution_count": null,
   "metadata": {},
   "outputs": [],
   "source": [
    "str= input(\"Enter the string: \")\n",
    "print(str.isdigit())"
   ]
  },
  {
   "cell_type": "markdown",
   "metadata": {},
   "source": [
    "### Program that prints the string s without the character at index n.\n",
    "### If index is outside of range, print the string s intact.\n",
    "### If string is empty, print the string s intact.\n"
   ]
  },
  {
   "cell_type": "code",
   "execution_count": null,
   "metadata": {},
   "outputs": [],
   "source": [
    "str = input(\"Enter the string : \")\n",
    "str2 = ''\n",
    "n = int(input(\"Enter the index where you want to remove the element from the string : \"))\n",
    "if (str == \"\") or (n > len(str)):\n",
    "    print(str)\n",
    "else:\n",
    "    str2 = str[:n] + str[n+1:]\n",
    "\n",
    "print(str2)\n"
   ]
  },
  {
   "cell_type": "markdown",
   "metadata": {},
   "source": [
    "### Method - II\n"
   ]
  },
  {
   "cell_type": "code",
   "execution_count": 78,
   "metadata": {},
   "outputs": [
    {
     "name": "stdout",
     "output_type": "stream",
     "text": [
      "micrsoft\n"
     ]
    }
   ],
   "source": [
    "str = input(\"Enter the string : \")\n",
    "str2 = ''\n",
    "n = int(input(\"Enter the index where you want to remove the element from the string : \"))\n",
    "\n",
    "if (str == \"\") or (n > len(str)): # INstead of str == \"\" we can also use if not s\n",
    "    print(str)\n",
    "else:\n",
    "    for i in range(len(str)):\n",
    "        if i != n:\n",
    "            str2 += str[i]\n",
    "\n",
    "print(str2)"
   ]
  },
  {
   "cell_type": "markdown",
   "metadata": {},
   "source": [
    "### Write a program that prints the string s with the character curr_char replaced by the character new_char.\n",
    "### curr_char and new_char are variables that contains strings with a single character.\n",
    "### new_char may not be an empty string.\n",
    "### must be a case-sensitive match.\n",
    "### print original string if no match is found. "
   ]
  },
  {
   "cell_type": "code",
   "execution_count": 90,
   "metadata": {},
   "outputs": [
    {
     "name": "stdout",
     "output_type": "stream",
     "text": [
      "miczosoft\n"
     ]
    }
   ],
   "source": [
    "str = 'microsoft'\n",
    "c_char = 'r'\n",
    "n_char = 'z'\n",
    "str2 = ''\n",
    "for index in str:\n",
    "    if index == c_char:\n",
    "        str2 += n_char\n",
    "    else:\n",
    "        str2 += index\n",
    "print(str2)    "
   ]
  },
  {
   "cell_type": "markdown",
   "metadata": {},
   "source": [
    "### Method -II : Using replace function."
   ]
  },
  {
   "cell_type": "code",
   "execution_count": 91,
   "metadata": {},
   "outputs": [
    {
     "name": "stdout",
     "output_type": "stream",
     "text": [
      "micrqsqft\n"
     ]
    }
   ],
   "source": [
    "str = 'microsoft'\n",
    "c_char = 'o'\n",
    "n_char = 'q'\n",
    "\n",
    "str2 = str.replace(c_char,n_char)\n",
    "print(str2)"
   ]
  },
  {
   "cell_type": "code",
   "execution_count": null,
   "metadata": {},
   "outputs": [],
   "source": []
  }
 ],
 "metadata": {
  "kernelspec": {
   "display_name": "Python 3.10.5 ('Dataman')",
   "language": "python",
   "name": "python3"
  },
  "language_info": {
   "codemirror_mode": {
    "name": "ipython",
    "version": 3
   },
   "file_extension": ".py",
   "mimetype": "text/x-python",
   "name": "python",
   "nbconvert_exporter": "python",
   "pygments_lexer": "ipython3",
   "version": "3.10.5"
  },
  "orig_nbformat": 4,
  "vscode": {
   "interpreter": {
    "hash": "a36b3aecfc158218fe26b008aba2cb48cb8b062d8288cb2843b395773d964365"
   }
  }
 },
 "nbformat": 4,
 "nbformat_minor": 2
}
