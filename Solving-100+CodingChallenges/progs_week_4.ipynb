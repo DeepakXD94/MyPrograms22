{
 "cells": [
  {
   "cell_type": "markdown",
   "metadata": {},
   "source": [
    "## Basic Level Data Structures"
   ]
  },
  {
   "cell_type": "markdown",
   "metadata": {},
   "source": [
    "#### Program that multiplies all the items in a list by the value of the variable factor.\n",
    "* The program must print the list as the output.\n",
    "* The program should allow multiplying the variable factor by a string in case the list contains strings.\n",
    "* The value of the factor will be a +ve integer."
   ]
  },
  {
   "cell_type": "code",
   "execution_count": null,
   "metadata": {},
   "outputs": [],
   "source": [
    "list = [2,\"kick\",4,6,7,1]\n",
    "list2 = []\n",
    "\n",
    "for char in list:\n",
    "    list2.append(char * 3)\n",
    "\n",
    "print(list2)"
   ]
  },
  {
   "cell_type": "markdown",
   "metadata": {},
   "source": [
    "#### Using enumerate"
   ]
  },
  {
   "cell_type": "code",
   "execution_count": null,
   "metadata": {},
   "outputs": [],
   "source": [
    "list = [2,\"kick\",4,6,7,1]\n",
    "factor = 2.5\n",
    "\n",
    "for index, element in enumerate(list):\n",
    "    list[index] = element * round(factor)\n",
    "\n",
    "print(list)"
   ]
  },
  {
   "cell_type": "markdown",
   "metadata": {},
   "source": [
    "### Program that prints the elements of a list on the same line.\n",
    "1.  The elements should be separated by a space( not by a comma)\n",
    "2.  Output should lose the opening & closing square brackets."
   ]
  },
  {
   "cell_type": "code",
   "execution_count": null,
   "metadata": {},
   "outputs": [],
   "source": [
    "list = [1,5,True,\"pine\",'krait','liverpool',9,4,8.69]\n",
    "string = \"\"\n",
    "\n",
    "for char in list:\n",
    "    string += str(char) + \" \"\n",
    "\n",
    "string.rstrip()\n",
    "print(string)"
   ]
  },
  {
   "cell_type": "markdown",
   "metadata": {},
   "source": [
    "#### Simpler Method "
   ]
  },
  {
   "cell_type": "code",
   "execution_count": null,
   "metadata": {},
   "outputs": [],
   "source": [
    "list = [1,5,True,\"pine\",'krait','liverpool',9,4,8.69]\n",
    "\n",
    "for char in list:\n",
    "    print(char,end = \" \")"
   ]
  },
  {
   "cell_type": "markdown",
   "metadata": {},
   "source": [
    "#### Even simpler method."
   ]
  },
  {
   "cell_type": "code",
   "execution_count": null,
   "metadata": {},
   "outputs": [],
   "source": [
    "list = [1,5,True,\"pine\",'krait','liverpool',9,4,8.69]\n",
    "print(*list,sep = \" \") # The asterisk unpacks the elements in a list."
   ]
  },
  {
   "cell_type": "markdown",
   "metadata": {},
   "source": [
    "### Program that prints the largest ans smallest values in a list.\n",
    "1. Print the two values on the same line, separated by a space.\n",
    "2. Largets value should appear first, followed by smallest.\n",
    "3. List only contains numeric values.\n",
    "4. Print None if the list is empty.\n",
    "5. Assume the list only contains numeric values."
   ]
  },
  {
   "cell_type": "code",
   "execution_count": null,
   "metadata": {},
   "outputs": [],
   "source": [
    "list1 = [3,6,9,5,1,4,7,2]\n",
    "if len(list1) > 1:\n",
    "    print(max(list1),end = \" \")\n",
    "    print(min(list1))\n",
    "else:\n",
    "    print(\"None\")"
   ]
  },
  {
   "cell_type": "markdown",
   "metadata": {},
   "source": [
    "### Program that checks if a list is empty or not.\n",
    "Print Empty if list has no elements and not empty if it has elements."
   ]
  },
  {
   "cell_type": "code",
   "execution_count": null,
   "metadata": {},
   "outputs": [],
   "source": [
    "list = [1,5,True,\"pine\",'krait','liverpool',9,4,8.69]\n",
    "\n",
    "if len(list) > 0:\n",
    "    print(\"Not empty\")\n",
    "else:\n",
    "    print(\"Empty\")"
   ]
  },
  {
   "cell_type": "markdown",
   "metadata": {},
   "source": [
    "##### Method -II"
   ]
  },
  {
   "cell_type": "code",
   "execution_count": null,
   "metadata": {},
   "outputs": [],
   "source": [
    "list = []\n",
    "if not list:\n",
    "    print(\"Empty\")\n",
    "else:\n",
    "    print(\"Not Empty\")"
   ]
  },
  {
   "cell_type": "markdown",
   "metadata": {},
   "source": [
    "### Program to print the elements of a list following their corresponding indices.\n",
    "1. Each element & index must be on the same line separated by a space.\n",
    "2. Print Empty List if the list is empty."
   ]
  },
  {
   "cell_type": "code",
   "execution_count": null,
   "metadata": {},
   "outputs": [],
   "source": [
    "list = [1,5,True,\"pine\",'krait','liverpool',9,4,8.69]\n",
    "\n",
    "if list:\n",
    "    for index, char in enumerate(list):\n",
    "        print(char,\" \",index)\n",
    "else:\n",
    "    print(\"Empty List\")"
   ]
  },
  {
   "cell_type": "markdown",
   "metadata": {},
   "source": [
    "### Program to removes all occurances of the eleement elem_to_remove from a list.\n",
    "1.  Output of the program should be the new list with the element removed.\n",
    "2.  Print message \"Not found\" if element not found.\n",
    "3.  PrintEmpty if the list is empty."
   ]
  },
  {
   "cell_type": "code",
   "execution_count": null,
   "metadata": {},
   "outputs": [],
   "source": [
    "list = [1,5,\"pine\",True,\"pine\",'krait','liverpool',9,4,\"pine\",8.69]\n",
    "element = \"pine\"\n",
    "dist_list = set(list)\n",
    "dist_list.remove('pine')\n",
    "print(dist_list)"
   ]
  },
  {
   "cell_type": "code",
   "execution_count": null,
   "metadata": {},
   "outputs": [],
   "source": [
    "list = [1,5,\"pine\",True,\"pine\",'krait','liverpool',9,4,\"pine\",8.69]\n",
    "element = \"pine\"\n",
    "\n",
    "if not list:\n",
    "    print(\"Empty list\")\n",
    "elif list.count(element) == 0:\n",
    "    print(\"Not Found\")\n",
    "else:\n",
    "    for i in range(list.count((element))):\n",
    "        list.remove(element)\n",
    "    \n",
    "print(list)"
   ]
  },
  {
   "cell_type": "markdown",
   "metadata": {},
   "source": [
    "### Program that removes duplicate elements froma  alist, only keeping one occurence of each element in the list.\n",
    "1. Original list should be mutated(modified).\n",
    "2. Program must print the final version of the list."
   ]
  },
  {
   "cell_type": "code",
   "execution_count": null,
   "metadata": {},
   "outputs": [],
   "source": [
    "list = [1,5,\"pine\",True,\"pine\",'krait','liverpool',9,4,\"pine\",8.69]\n",
    "\n",
    "dup_list = list(dict.fromkeys(list))\n",
    "print(dup_list)"
   ]
  },
  {
   "cell_type": "markdown",
   "metadata": {},
   "source": [
    "### Program that counts the no. of elements in a  list that are greater than 3.\n",
    "1. Assume the list has only numbers.\n",
    "2. Print the final output."
   ]
  },
  {
   "cell_type": "code",
   "execution_count": null,
   "metadata": {},
   "outputs": [],
   "source": [
    "list = [1,5,9,4,8.69,2,3,1,7]\n",
    "k = 0\n",
    "\n",
    "for char in list:\n",
    "    if char > 3:\n",
    "        k += 1\n",
    "\n",
    "print(\"The no. of elements that are greater than 3 in the list are :\",k)"
   ]
  },
  {
   "cell_type": "markdown",
   "metadata": {},
   "source": [
    "##### Shorter, smarter method."
   ]
  },
  {
   "cell_type": "code",
   "execution_count": null,
   "metadata": {},
   "outputs": [],
   "source": [
    "list = [1,5,9,4,8.69,2,3,1,7]\n",
    "count = sum(1 for element in list if element > 3)\n",
    "print(count)"
   ]
  },
  {
   "cell_type": "markdown",
   "metadata": {},
   "source": [
    "#                                        The End."
   ]
  }
 ],
 "metadata": {
  "kernelspec": {
   "display_name": "Python 3.10.5 ('Dataman')",
   "language": "python",
   "name": "python3"
  },
  "language_info": {
   "codemirror_mode": {
    "name": "ipython",
    "version": 3
   },
   "file_extension": ".py",
   "mimetype": "text/x-python",
   "name": "python",
   "nbconvert_exporter": "python",
   "pygments_lexer": "ipython3",
   "version": "3.10.5"
  },
  "orig_nbformat": 4,
  "vscode": {
   "interpreter": {
    "hash": "a36b3aecfc158218fe26b008aba2cb48cb8b062d8288cb2843b395773d964365"
   }
  }
 },
 "nbformat": 4,
 "nbformat_minor": 2
}
