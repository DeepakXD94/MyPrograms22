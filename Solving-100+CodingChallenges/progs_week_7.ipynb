{
 "cells": [
  {
   "cell_type": "markdown",
   "metadata": {},
   "source": [
    "# Python Program Week 7"
   ]
  },
  {
   "cell_type": "markdown",
   "metadata": {},
   "source": [
    "### Program that prints if a number is either 'positive', 'zero', or 'negative'."
   ]
  },
  {
   "cell_type": "code",
   "execution_count": null,
   "metadata": {},
   "outputs": [],
   "source": [
    "def num_sign():\n",
    "    num = int(input(\"Enter the input :\"))\n",
    "    if num > 0:\n",
    "        return 'Positive'\n",
    "    elif num < 0:\n",
    "        return 'Negative'\n",
    "    else:\n",
    "        return 'Zero'\n",
    "\n",
    "num_sign()"
   ]
  },
  {
   "cell_type": "markdown",
   "metadata": {},
   "source": [
    "### Program that prints a descriptive message indicating if each character in a string is a vowel or a consonant. For example: \"<char> is a <consonant | vowel>\"\n",
    "If the character is a special character, number, or symbol, print \"<char> is not a letter\".\n",
    "If the string is empty, print \"Empty String\"."
   ]
  },
  {
   "cell_type": "code",
   "execution_count": null,
   "metadata": {},
   "outputs": [],
   "source": [
    "str = input(\"Enter the string\")\n",
    "vowels = ['a','e','i','o','u']\n",
    "if str == \"\":\n",
    "    print(\"Empty String\")\n",
    "else:\n",
    "    for char in str:\n",
    "        if char in vowels:\n",
    "            print(char + \" is a vowel\")\n",
    "        elif char not in vowels and char.isalpha():\n",
    "            print(char + \" is a consonant\")\n",
    "        else:\n",
    "            print(char + \" is not a a letter.\")"
   ]
  },
  {
   "cell_type": "markdown",
   "metadata": {},
   "source": [
    "### Program that prints the maximum of three integers (a, ,b, c)\n"
   ]
  },
  {
   "cell_type": "code",
   "execution_count": null,
   "metadata": {},
   "outputs": [],
   "source": [
    "def max_3(a,b,c):\n",
    "    if a > b and a > c:\n",
    "        return a\n",
    "    elif a > b and a < c:\n",
    "        return c\n",
    "    elif a < b and b < c:\n",
    "        return c\n",
    "    else:\n",
    "        return b\n",
    "\n",
    "max_3(11,11,11)"
   ]
  },
  {
   "cell_type": "markdown",
   "metadata": {},
   "source": [
    "### Method - II"
   ]
  },
  {
   "cell_type": "code",
   "execution_count": null,
   "metadata": {},
   "outputs": [],
   "source": [
    "a = 3\n",
    "b = 5\n",
    "c = 7\n",
    "print(max(a,b,c))"
   ]
  },
  {
   "cell_type": "markdown",
   "metadata": {},
   "source": [
    "### Program that prints the smallest of three integers (a, ,b, c)\n"
   ]
  },
  {
   "cell_type": "code",
   "execution_count": null,
   "metadata": {},
   "outputs": [],
   "source": [
    "def min_3(a,b,c):\n",
    "    if a > b and b > c:\n",
    "        return c\n",
    "    elif a > b and b < c:\n",
    "        return b\n",
    "    elif a < b and a < c:\n",
    "        return a\n",
    "    else:\n",
    "        return c\n",
    "\n",
    "min_3(1,5,2)"
   ]
  },
  {
   "cell_type": "markdown",
   "metadata": {},
   "source": [
    "### Method - II"
   ]
  },
  {
   "cell_type": "code",
   "execution_count": null,
   "metadata": {},
   "outputs": [],
   "source": [
    "a = 3\n",
    "b = 5\n",
    "c = 7\n",
    "print(min(a,b,c))"
   ]
  },
  {
   "cell_type": "markdown",
   "metadata": {},
   "source": [
    "### Program that prints the corresponding season based on the value of the variable season_num.\n",
    "1.  The possible values of season_num are: 1 for Spring, 2 for Summer, 3 for Fall, 4 for Winter.\n",
    "2.  If the value of season_num is neither one of these values, print \"Please enter a valid number\"."
   ]
  },
  {
   "cell_type": "code",
   "execution_count": null,
   "metadata": {},
   "outputs": [],
   "source": [
    "season_code = int(input(\"Enter the season code : \"))\n",
    "season_dict = {\n",
    "    1 : 'Spring',\n",
    "    2 : 'Summer',\n",
    "    3 : 'Fall',\n",
    "    4 : 'Winter'\n",
    "}\n",
    "\n",
    "if season_code in season_dict.items():\n",
    "    print(\"The season is :\" + season_dict[season_code])\n",
    "else:\n",
    "    print(\"Enter a valid number.\")"
   ]
  },
  {
   "cell_type": "code",
   "execution_count": 22,
   "metadata": {},
   "outputs": [],
   "source": [
    "def season_num():\n",
    "    season_code = int(input(\"Enter a number :\"))\n",
    "    if season_code == 1:\n",
    "        return \"Spring\"\n",
    "    elif season_code == 2:\n",
    "        return \"Summer\"\n",
    "    elif season_code == 3:\n",
    "        return \"Fall\"\n",
    "    elif season_code == 4:\n",
    "        return \"Winter\"\n",
    "    else:\n",
    "        while season_code not in range(1,5):\n",
    "            print(\"Enter a valid number.\")\n",
    "\n",
    "season_num()"
   ]
  }
 ],
 "metadata": {
  "kernelspec": {
   "display_name": "Python 3.10.5 ('Dataman')",
   "language": "python",
   "name": "python3"
  },
  "language_info": {
   "codemirror_mode": {
    "name": "ipython",
    "version": 3
   },
   "file_extension": ".py",
   "mimetype": "text/x-python",
   "name": "python",
   "nbconvert_exporter": "python",
   "pygments_lexer": "ipython3",
   "version": "3.10.5"
  },
  "orig_nbformat": 4,
  "vscode": {
   "interpreter": {
    "hash": "a36b3aecfc158218fe26b008aba2cb48cb8b062d8288cb2843b395773d964365"
   }
  }
 },
 "nbformat": 4,
 "nbformat_minor": 2
}
