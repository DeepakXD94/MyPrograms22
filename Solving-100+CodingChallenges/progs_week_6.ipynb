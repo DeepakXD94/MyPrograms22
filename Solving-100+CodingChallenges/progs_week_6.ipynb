{
 "cells": [
  {
   "cell_type": "markdown",
   "metadata": {},
   "source": [
    "# Programs Week 6"
   ]
  },
  {
   "cell_type": "markdown",
   "metadata": {},
   "source": [
    "## Python program that counts the frequency of each value in a dictionary.\n",
    "The program should create a new dictionary to map each value in the original dictionary to its frequency (how many times it occurs).\n",
    "If the dictionary is empty, print an empty dictionary."
   ]
  },
  {
   "cell_type": "code",
   "execution_count": 4,
   "metadata": {},
   "outputs": [
    {
     "name": "stdout",
     "output_type": "stream",
     "text": [
      "{4: 3, 2: 2, 7: 3}\n"
     ]
    }
   ],
   "source": [
    "my_dict = {\n",
    "\t\"a\": 4,\n",
    "\t\"b\": 4,\n",
    "\t\"c\": 2,\n",
    "\t\"d\": 7,\n",
    "\t\"e\": 4,\n",
    "\t\"f\": 2,\n",
    "\t\"g\": 7,\n",
    "\t\"h\": 7\n",
    " }\n",
    "\n",
    "freq_dict = {}\n",
    "\n",
    "for element in my_dict.values(): # Since we are iterating among values, not keys.\n",
    "    if element in freq_dict:\n",
    "        freq_dict[element] += 1\n",
    "    else:\n",
    "        freq_dict[element] = 1\n",
    "print(freq_dict)\n",
    "  "
   ]
  },
  {
   "cell_type": "markdown",
   "metadata": {},
   "source": [
    "## Program that creates a dictionary from the values contained in nested lists.\n",
    "Each nested list has this format [value1, value2].\n",
    "value1 should be the key in the dictionary and value2 should be its corresponding value.\n",
    "If there are no nested lists, print an empty dictionary."
   ]
  },
  {
   "cell_type": "code",
   "execution_count": 6,
   "metadata": {},
   "outputs": [
    {
     "name": "stdout",
     "output_type": "stream",
     "text": [
      "{'a': 1, 'b': 2, 'c': 3, 'd': 4, 'e': 5, 'f': 6, 'g': 7, 'h': 8}\n"
     ]
    }
   ],
   "source": [
    "list_1 = [[\"a\", 1], [\"b\", 2], [\"c\", 3], [\"d\", 4], ['e', 5], ['f', 6], ['g', 7], ['h', 8]]\n",
    "dict_1 = {}\n",
    "\n",
    "for nest_list in list_1:\n",
    "    key = nest_list[0]\n",
    "    value = nest_list[1]\n",
    "    dict_1[key] = value\n",
    "\n",
    "print(dict_1)"
   ]
  },
  {
   "cell_type": "markdown",
   "metadata": {},
   "source": [
    "## Python program that prints the largest of the values in a dictionary.\n",
    "You may assume that all the values in the dictionary are either lists or tuples."
   ]
  },
  {
   "cell_type": "code",
   "execution_count": 7,
   "metadata": {},
   "outputs": [
    {
     "name": "stdout",
     "output_type": "stream",
     "text": [
      "157\n"
     ]
    }
   ],
   "source": [
    "my_dict = {\n",
    "\t\"a\": [1, 2, 3],\n",
    "\t\"b\": [4, 0, -4],\n",
    "\t\"c\": [3, 5, 9],\n",
    "\t\"d\": [45, 12, 100]\n",
    "}\n",
    "\n",
    "max_sum = None\n",
    "\n",
    "for list_value in my_dict.values():\n",
    "    list_sum = sum(list_value)\n",
    "    if max_sum is None:\n",
    "        max_sum = list_sum\n",
    "    elif max_sum < list_sum:\n",
    "        max_sum = list_sum\n",
    "\n",
    "print(max_sum)"
   ]
  },
  {
   "cell_type": "code",
   "execution_count": null,
   "metadata": {},
   "outputs": [],
   "source": []
  }
 ],
 "metadata": {
  "kernelspec": {
   "display_name": "Python 3.10.5 ('Dataman')",
   "language": "python",
   "name": "python3"
  },
  "language_info": {
   "codemirror_mode": {
    "name": "ipython",
    "version": 3
   },
   "file_extension": ".py",
   "mimetype": "text/x-python",
   "name": "python",
   "nbconvert_exporter": "python",
   "pygments_lexer": "ipython3",
   "version": "3.10.5"
  },
  "orig_nbformat": 4,
  "vscode": {
   "interpreter": {
    "hash": "a36b3aecfc158218fe26b008aba2cb48cb8b062d8288cb2843b395773d964365"
   }
  }
 },
 "nbformat": 4,
 "nbformat_minor": 2
}
