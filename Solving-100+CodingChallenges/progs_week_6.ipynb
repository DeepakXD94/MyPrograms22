{
 "cells": [
  {
   "cell_type": "markdown",
   "metadata": {},
   "source": [
    "# Programs Week 6"
   ]
  },
  {
   "cell_type": "markdown",
   "metadata": {},
   "source": [
    "## Python program that counts the frequency of each value in a dictionary.\n",
    "The program should create a new dictionary to map each value in the original dictionary to its frequency (how many times it occurs).\n",
    "If the dictionary is empty, print an empty dictionary."
   ]
  },
  {
   "cell_type": "code",
   "execution_count": null,
   "metadata": {},
   "outputs": [],
   "source": [
    "my_dict = {\n",
    "\t\"a\": 4,\n",
    "\t\"b\": 4,\n",
    "\t\"c\": 2,\n",
    "\t\"d\": 7,\n",
    "\t\"e\": 4,\n",
    "\t\"f\": 2,\n",
    "\t\"g\": 7,\n",
    "\t\"h\": 7\n",
    " }\n",
    "\n",
    "freq_dict = {}\n",
    "\n",
    "for element in my_dict.values(): # Since we are iterating among values, not keys.\n",
    "    if element in freq_dict:\n",
    "        freq_dict[element] += 1\n",
    "    else:\n",
    "        freq_dict[element] = 1\n",
    "print(freq_dict)\n",
    "  "
   ]
  },
  {
   "cell_type": "markdown",
   "metadata": {},
   "source": [
    "## Program that creates a dictionary from the values contained in nested lists.\n",
    "Each nested list has this format [value1, value2].\n",
    "value1 should be the key in the dictionary and value2 should be its corresponding value.\n",
    "If there are no nested lists, print an empty dictionary."
   ]
  },
  {
   "cell_type": "code",
   "execution_count": null,
   "metadata": {},
   "outputs": [],
   "source": [
    "list_1 = [[\"a\", 1], [\"b\", 2], [\"c\", 3], [\"d\", 4], ['e', 5], ['f', 6], ['g', 7], ['h', 8]]\n",
    "dict_1 = {}\n",
    "\n",
    "for nest_list in list_1:\n",
    "    key = nest_list[0]\n",
    "    value = nest_list[1]\n",
    "    dict_1[key] = value\n",
    "\n",
    "print(dict_1)"
   ]
  },
  {
   "cell_type": "markdown",
   "metadata": {},
   "source": [
    "## Python program that prints the largest of the values in a dictionary.\n",
    "You may assume that all the values in the dictionary are either lists or tuples."
   ]
  },
  {
   "cell_type": "code",
   "execution_count": null,
   "metadata": {},
   "outputs": [],
   "source": [
    "my_dict = {\n",
    "\t\"a\": [1, 2, 3],\n",
    "\t\"b\": [4, 0, -4],\n",
    "\t\"c\": [3, 5, 9],\n",
    "\t\"d\": [45, 12, 100]\n",
    "}\n",
    "\n",
    "max_sum = None\n",
    "\n",
    "for list_value in my_dict.values():\n",
    "    list_sum = sum(list_value)\n",
    "    if max_sum is None:\n",
    "        max_sum = list_sum\n",
    "    elif max_sum < list_sum:\n",
    "        max_sum = list_sum\n",
    "\n",
    "print(max_sum)"
   ]
  },
  {
   "cell_type": "markdown",
   "metadata": {},
   "source": [
    "## Program that creates and displays a dictionary that maps each letter in a string to how many times the character occurs in the string (its frequency).\n",
    "1.  The dictionary should only include the characters in the string.  \n",
    "2.  The test should be case-insensitive (\"A\" should be counted as \"a\").\n",
    "3.  The keys in the dictionary should be lowercase letters.\n",
    "4.  Only include letters in the dictionary."
   ]
  },
  {
   "cell_type": "code",
   "execution_count": null,
   "metadata": {},
   "outputs": [],
   "source": [
    "str = \"Your time is limited, so don't waste it living someone else's life.\"\n",
    "freq_dict = {}\n",
    "for element in str.lower():\n",
    "    if element.isalpha():\n",
    "        if element not in freq_dict:\n",
    "            freq_dict[element] = 1\n",
    "        else:\n",
    "            freq_dict[element] += 1\n",
    "\n",
    "print(freq_dict)"
   ]
  },
  {
   "cell_type": "markdown",
   "metadata": {},
   "source": [
    "## Program that sorts (in ascending order) the lists contained as values in a dictionary.\n",
    "1.  The dictionary contains key-value pairs that match strings to lists. You need to sort these lists.\n",
    "2.  The lists have to be mutated (changed)."
   ]
  },
  {
   "cell_type": "code",
   "execution_count": 12,
   "metadata": {},
   "outputs": [
    {
     "name": "stdout",
     "output_type": "stream",
     "text": [
      "{'a': [2, 3, 4], 'b': [3, 5, 7], 'c': [1, 9, 10], 'd': [1, 3, 4]}\n"
     ]
    }
   ],
   "source": [
    "my_dict = {\n",
    "\t\"a\": [4, 3, 2],\n",
    "\t\"b\": [5, 3, 7],\n",
    "\t\"c\": [1, 9, 10],\n",
    "\t\"d\": [3, 4, 1]\n",
    "}\n",
    "\n",
    "for sub_list in my_dict.values():\n",
    "    sub_list.sort() # Not to be confused with sorted() which returns a sorted copy of the list.\n",
    "\n",
    "print(my_dict)"
   ]
  },
  {
   "cell_type": "code",
   "execution_count": null,
   "metadata": {},
   "outputs": [],
   "source": []
  }
 ],
 "metadata": {
  "kernelspec": {
   "display_name": "Python 3.10.5 ('Dataman')",
   "language": "python",
   "name": "python3"
  },
  "language_info": {
   "codemirror_mode": {
    "name": "ipython",
    "version": 3
   },
   "file_extension": ".py",
   "mimetype": "text/x-python",
   "name": "python",
   "nbconvert_exporter": "python",
   "pygments_lexer": "ipython3",
   "version": "3.10.5"
  },
  "orig_nbformat": 4,
  "vscode": {
   "interpreter": {
    "hash": "a36b3aecfc158218fe26b008aba2cb48cb8b062d8288cb2843b395773d964365"
   }
  }
 },
 "nbformat": 4,
 "nbformat_minor": 2
}
