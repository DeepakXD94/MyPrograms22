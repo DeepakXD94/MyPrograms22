{
 "cells": [
  {
   "cell_type": "markdown",
   "metadata": {},
   "source": [
    "# Programs 9 to 16."
   ]
  },
  {
   "cell_type": "markdown",
   "metadata": {},
   "source": [
    "## A python program that prints a version of the string s with all commas replaced by dots.\n"
   ]
  },
  {
   "cell_type": "code",
   "execution_count": 2,
   "metadata": {},
   "outputs": [
    {
     "name": "stdout",
     "output_type": "stream",
     "text": [
      "Entered string is hello,world,pi,zzas,burgers,,,\n",
      "hello.world.pi.zzas.burgers...\n"
     ]
    }
   ],
   "source": [
    "str = input(\"Enter the input : \")\n",
    "print(f\"Entered string is {str}\")\n",
    "k = str.replace(\",\",\".\")\n",
    "print(k)"
   ]
  },
  {
   "cell_type": "markdown",
   "metadata": {},
   "source": [
    "### Long Method"
   ]
  },
  {
   "cell_type": "code",
   "execution_count": 3,
   "metadata": {},
   "outputs": [
    {
     "name": "stdout",
     "output_type": "stream",
     "text": [
      "ngfuaej....gfaeg.faefe.fg.eag.eag.aeg.g\n"
     ]
    }
   ],
   "source": [
    "str = input(\"Enter the input : \")\n",
    "str2 = ''\n",
    "for index in str:\n",
    "    if index == ',':\n",
    "        str2 += '.'\n",
    "    else:\n",
    "        str2 += index\n",
    "\n",
    "print(str2)"
   ]
  },
  {
   "cell_type": "markdown",
   "metadata": {},
   "source": [
    "### program that checks if the string s contains all its letters as alphabet\n",
    "### Case-sensitive.\n",
    "### If it does, print True. Else, print False.\n",
    "### Convert string to lowercase, before comapring.\n",
    "### Assumption : String has only whitespaces possibly, and no other symbols.\n",
    "### These letters make alphabet :'abcdefghijklmnopqrstuvwxyz'"
   ]
  },
  {
   "cell_type": "markdown",
   "metadata": {},
   "source": [
    "#### Method - I"
   ]
  },
  {
   "cell_type": "code",
   "execution_count": 17,
   "metadata": {},
   "outputs": [
    {
     "name": "stdout",
     "output_type": "stream",
     "text": [
      "False\n"
     ]
    }
   ],
   "source": [
    "import string\n",
    "s = input(\"Enter the input\")\n",
    "space = \" \"\n",
    "set_s = set(s.lower())\n",
    "if space in set_s:\n",
    "    set_s.remove(\" \") # Removes whitespaces from the string.\n",
    "print(set_s == set(string.ascii_lowercase))"
   ]
  },
  {
   "cell_type": "markdown",
   "metadata": {},
   "source": [
    "### Method - II"
   ]
  },
  {
   "cell_type": "code",
   "execution_count": 21,
   "metadata": {},
   "outputs": [
    {
     "name": "stdout",
     "output_type": "stream",
     "text": [
      "False\n"
     ]
    }
   ],
   "source": [
    "import string\n",
    "\n",
    "s = \"microsoft surface\"\n",
    "is_pangram = True\n",
    "\n",
    "for char in string.ascii_lowercase:\n",
    "    if char not in s.lower():\n",
    "        is_pangram = False\n",
    "        break  # Of course, stops the loop.\n",
    "print(is_pangram)"
   ]
  },
  {
   "cell_type": "markdown",
   "metadata": {},
   "source": [
    "# Program - V\n",
    "## Program to remove whitespaces in a string.\n",
    "### Words should be connected int he final string.\n",
    "### If the string doesn't contain whitespaces, print intact.\n"
   ]
  },
  {
   "cell_type": "code",
   "execution_count": 24,
   "metadata": {},
   "outputs": [
    {
     "ename": "AttributeError",
     "evalue": "'str' object has no attribute 'remove'",
     "output_type": "error",
     "traceback": [
      "\u001b[1;31m---------------------------------------------------------------------------\u001b[0m",
      "\u001b[1;31mAttributeError\u001b[0m                            Traceback (most recent call last)",
      "\u001b[1;32mr:\\MOOC\\Python Exercises for Beginners Solve 100+ Coding Challenges\\MyCode\\program2.ipynb Cell 12\u001b[0m in \u001b[0;36m<cell line: 4>\u001b[1;34m()\u001b[0m\n\u001b[0;32m      <a href='vscode-notebook-cell:/r%3A/MOOC/Python%20Exercises%20for%20Beginners%20Solve%20100%2B%20Coding%20Challenges/MyCode/program2.ipynb#X26sZmlsZQ%3D%3D?line=4'>5</a>\u001b[0m     \u001b[39mprint\u001b[39m(\u001b[39mstr\u001b[39m)\n\u001b[0;32m      <a href='vscode-notebook-cell:/r%3A/MOOC/Python%20Exercises%20for%20Beginners%20Solve%20100%2B%20Coding%20Challenges/MyCode/program2.ipynb#X26sZmlsZQ%3D%3D?line=5'>6</a>\u001b[0m \u001b[39melse\u001b[39;00m:\n\u001b[1;32m----> <a href='vscode-notebook-cell:/r%3A/MOOC/Python%20Exercises%20for%20Beginners%20Solve%20100%2B%20Coding%20Challenges/MyCode/program2.ipynb#X26sZmlsZQ%3D%3D?line=6'>7</a>\u001b[0m     \u001b[39mstr\u001b[39;49m\u001b[39m.\u001b[39;49mremove(\u001b[39m\"\u001b[39m\u001b[39m \u001b[39m\u001b[39m\"\u001b[39m)\n\u001b[0;32m      <a href='vscode-notebook-cell:/r%3A/MOOC/Python%20Exercises%20for%20Beginners%20Solve%20100%2B%20Coding%20Challenges/MyCode/program2.ipynb#X26sZmlsZQ%3D%3D?line=7'>8</a>\u001b[0m     \u001b[39mprint\u001b[39m(\u001b[39mstr\u001b[39m)\n",
      "\u001b[1;31mAttributeError\u001b[0m: 'str' object has no attribute 'remove'"
     ]
    }
   ],
   "source": [
    "str = input(\"Enter the string :\")\n",
    "space = \" \"\n",
    "\n",
    "if space not in str:\n",
    "    print(str)\n",
    "else:\n",
    "    str.remove(\" \")\n",
    "    print(str)"
   ]
  }
 ],
 "metadata": {
  "kernelspec": {
   "display_name": "Python 3.10.6 64-bit (windows store)",
   "language": "python",
   "name": "python3"
  },
  "language_info": {
   "codemirror_mode": {
    "name": "ipython",
    "version": 3
   },
   "file_extension": ".py",
   "mimetype": "text/x-python",
   "name": "python",
   "nbconvert_exporter": "python",
   "pygments_lexer": "ipython3",
   "version": "3.10.6"
  },
  "orig_nbformat": 4,
  "vscode": {
   "interpreter": {
    "hash": "ee6a90de16fa12afd53d40252d15864a0ff737146c89d44f557aa67667fba998"
   }
  }
 },
 "nbformat": 4,
 "nbformat_minor": 2
}
