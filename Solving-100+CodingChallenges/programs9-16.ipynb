{
 "cells": [
  {
   "cell_type": "markdown",
   "metadata": {},
   "source": [
    "# Programs 9 to 16."
   ]
  },
  {
   "cell_type": "markdown",
   "metadata": {},
   "source": [
    "## A python program that prints a version of the string s with all commas replaced by dots.\n"
   ]
  },
  {
   "cell_type": "code",
   "execution_count": null,
   "metadata": {},
   "outputs": [],
   "source": [
    "str = input(\"Enter the input : \")\n",
    "print(f\"Entered string is {str}\")\n",
    "k = str.replace(\",\",\".\")\n",
    "print(k)"
   ]
  },
  {
   "cell_type": "markdown",
   "metadata": {},
   "source": [
    "### Long Method"
   ]
  },
  {
   "cell_type": "code",
   "execution_count": null,
   "metadata": {},
   "outputs": [],
   "source": [
    "str = input(\"Enter the input : \")\n",
    "str2 = ''\n",
    "for index in str:\n",
    "    if index == ',':\n",
    "        str2 += '.'\n",
    "    else:\n",
    "        str2 += index\n",
    "\n",
    "print(str2)"
   ]
  },
  {
   "cell_type": "markdown",
   "metadata": {},
   "source": [
    "### program that checks if the string s contains all its letters as alphabet\n",
    "### Case-sensitive.\n",
    "### If it does, print True. Else, print False.\n",
    "### Convert string to lowercase, before comapring.\n",
    "### Assumption : String has only whitespaces possibly, and no other symbols.\n",
    "### These letters make alphabet :'abcdefghijklmnopqrstuvwxyz'"
   ]
  },
  {
   "cell_type": "markdown",
   "metadata": {},
   "source": [
    "#### Method - I"
   ]
  },
  {
   "cell_type": "code",
   "execution_count": null,
   "metadata": {},
   "outputs": [],
   "source": [
    "import string\n",
    "s = input(\"Enter the input\")\n",
    "space = \" \"\n",
    "set_s = set(s.lower())\n",
    "if space in set_s:\n",
    "    set_s.remove(\" \") # Removes whitespaces from the string.\n",
    "print(set_s == set(string.ascii_lowercase))"
   ]
  },
  {
   "cell_type": "markdown",
   "metadata": {},
   "source": [
    "### Method - II"
   ]
  },
  {
   "cell_type": "code",
   "execution_count": null,
   "metadata": {},
   "outputs": [],
   "source": [
    "import string\n",
    "\n",
    "s = \"microsoft surface\"\n",
    "is_pangram = True\n",
    "\n",
    "for char in string.ascii_lowercase:\n",
    "    if char not in s.lower():\n",
    "        is_pangram = False\n",
    "        break  # Of course, stops the loop.\n",
    "print(is_pangram)"
   ]
  },
  {
   "cell_type": "markdown",
   "metadata": {},
   "source": [
    "# Program - V\n",
    "## Program to remove whitespaces in a string.\n",
    "### Words should be connected in the final string.\n",
    "### If the string doesn't contain whitespaces, print intact.\n"
   ]
  },
  {
   "cell_type": "code",
   "execution_count": null,
   "metadata": {},
   "outputs": [],
   "source": [
    "str = input(\"Enter the string :\")\n",
    "space = \" \"\n",
    "\n",
    "print(str.replace(space,\"\"))"
   ]
  },
  {
   "cell_type": "markdown",
   "metadata": {},
   "source": [
    "### Method -II"
   ]
  },
  {
   "cell_type": "code",
   "execution_count": null,
   "metadata": {},
   "outputs": [],
   "source": [
    "str = input(\"Enter the string : \")\n",
    "str2 = \"\"\n",
    "\n",
    "for char in str:\n",
    "    if char != \" \":\n",
    "        str2 += char\n",
    "    \n",
    "print(str2)"
   ]
  },
  {
   "cell_type": "markdown",
   "metadata": {},
   "source": [
    "## 6. Program to check if a string starts with a prefix\n",
    "If it does, print True. Else, print False.\n",
    "CASE-SENSITIVE.\n",
    "If length of the prefix is greater than the lenght of the string, print False."
   ]
  },
  {
   "cell_type": "code",
   "execution_count": null,
   "metadata": {},
   "outputs": [],
   "source": [
    "def prefix_check():\n",
    "    str = input(\"Enter the input :\")\n",
    "    if str.startswith(\"mic\"):\n",
    "        return True\n",
    "    else:\n",
    "        return False\n",
    "\n",
    "prefix_check()"
   ]
  },
  {
   "cell_type": "markdown",
   "metadata": {},
   "source": [
    "Without function."
   ]
  },
  {
   "cell_type": "code",
   "execution_count": null,
   "metadata": {},
   "outputs": [],
   "source": [
    "str = input(\"Enter the output\")\n",
    "\n",
    "prefix = \"micr\"\n",
    "print(str.startswith(prefix)) # Return True or False depending on the string - prefix match.\n"
   ]
  },
  {
   "cell_type": "markdown",
   "metadata": {},
   "source": [
    "Method - III Using string slicing."
   ]
  },
  {
   "cell_type": "code",
   "execution_count": null,
   "metadata": {},
   "outputs": [],
   "source": [
    "\n",
    "str = input(\"Enter the string.\")\n",
    "prefix = 'ado'\n",
    "\n",
    "print(str[:len(prefix)] == prefix)"
   ]
  },
  {
   "cell_type": "markdown",
   "metadata": {},
   "source": [
    "# Program 9\n",
    "Write a program that checks if the string s ends with a specific sequence of characters denoted by the variable suffix.\n",
    "If it does, print True. Else, print FALSE.\n",
    "CASE-SENSITIVE.\n",
    "If the length of the suffix is greater than the length of the string, print False."
   ]
  },
  {
   "cell_type": "markdown",
   "metadata": {},
   "source": [
    "Method -I : String Slicing"
   ]
  },
  {
   "cell_type": "code",
   "execution_count": null,
   "metadata": {},
   "outputs": [],
   "source": [
    "str = input(\"Enter the string\")\n",
    "suffix = \"OS\"\n",
    "\n",
    "print(str[-len(suffix):] == suffix)"
   ]
  },
  {
   "cell_type": "markdown",
   "metadata": {},
   "source": [
    "Method - II Using endswith() attribute."
   ]
  },
  {
   "cell_type": "code",
   "execution_count": null,
   "metadata": {},
   "outputs": [],
   "source": [
    "str = input(\"Enter the string\")\n",
    "suffix = \"OS\"\n",
    "\n",
    "print(str.endswith(suffix))"
   ]
  },
  {
   "cell_type": "markdown",
   "metadata": {},
   "source": [
    "# Program 10"
   ]
  },
  {
   "cell_type": "markdown",
   "metadata": {},
   "source": [
    "Write a Python program that reverses the individual words in the string s and changes their capitalization. Uppercase letters should be printed in lowercase and vice versa. Assume that the string only contains letters and spaces are used to separate words."
   ]
  },
  {
   "cell_type": "code",
   "execution_count": 7,
   "metadata": {},
   "outputs": [
    {
     "name": "stdout",
     "output_type": "stream",
     "text": [
      "TFOSORCIm SWODNIw \n"
     ]
    }
   ],
   "source": [
    "str = \"Microsoft Windows\"\n",
    "k = str.split(\" \")\n",
    "str2 = ''\n",
    "\n",
    "for char in k:\n",
    "    reversed_word = char[::-1] # Each element in the list has the elements in reverse order.\n",
    "    swapped_case =reversed_word.swapcase()  # Apparently, swapcase() attribute swaps the case of every element in the string.\n",
    "    str2 += swapped_case +\" \" # The swapped & reversed elements are added to the string str2.\n",
    "\n",
    "str2.rstrip() # To get rid of the whitespace at the end of the string.\n",
    "print(str2)"
   ]
  },
  {
   "cell_type": "code",
   "execution_count": null,
   "metadata": {},
   "outputs": [],
   "source": []
  }
 ],
 "metadata": {
  "kernelspec": {
   "display_name": "Python 3.10.5 ('Dataman')",
   "language": "python",
   "name": "python3"
  },
  "language_info": {
   "codemirror_mode": {
    "name": "ipython",
    "version": 3
   },
   "file_extension": ".py",
   "mimetype": "text/x-python",
   "name": "python",
   "nbconvert_exporter": "python",
   "pygments_lexer": "ipython3",
   "version": "3.10.5"
  },
  "orig_nbformat": 4,
  "vscode": {
   "interpreter": {
    "hash": "a36b3aecfc158218fe26b008aba2cb48cb8b062d8288cb2843b395773d964365"
   }
  }
 },
 "nbformat": 4,
 "nbformat_minor": 2
}
