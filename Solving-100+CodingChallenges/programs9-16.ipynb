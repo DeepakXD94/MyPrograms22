{
 "cells": [
  {
   "cell_type": "markdown",
   "metadata": {},
   "source": [
    "# Programs 9 to 16."
   ]
  },
  {
   "cell_type": "markdown",
   "metadata": {},
   "source": [
    "## A python program that prints a version of the string s with all commas replaced by dots.\n"
   ]
  },
  {
   "cell_type": "code",
   "execution_count": null,
   "metadata": {},
   "outputs": [],
   "source": [
    "str = input(\"Enter the input : \")\n",
    "print(f\"Entered string is {str}\")\n",
    "k = str.replace(\",\",\".\")\n",
    "print(k)"
   ]
  },
  {
   "cell_type": "markdown",
   "metadata": {},
   "source": [
    "### Long Method"
   ]
  },
  {
   "cell_type": "code",
   "execution_count": null,
   "metadata": {},
   "outputs": [],
   "source": [
    "str = input(\"Enter the input : \")\n",
    "str2 = ''\n",
    "for index in str:\n",
    "    if index == ',':\n",
    "        str2 += '.'\n",
    "    else:\n",
    "        str2 += index\n",
    "\n",
    "print(str2)"
   ]
  },
  {
   "cell_type": "markdown",
   "metadata": {},
   "source": [
    "### program that checks if the string s contains all its letters as alphabet\n",
    "### Case-sensitive.\n",
    "### If it does, print True. Else, print False.\n",
    "### Convert string to lowercase, before comapring.\n",
    "### Assumption : String has only whitespaces possibly, and no other symbols.\n",
    "### These letters make alphabet :'abcdefghijklmnopqrstuvwxyz'"
   ]
  },
  {
   "cell_type": "markdown",
   "metadata": {},
   "source": [
    "#### Method - I"
   ]
  },
  {
   "cell_type": "code",
   "execution_count": null,
   "metadata": {},
   "outputs": [],
   "source": [
    "import string\n",
    "s = input(\"Enter the input\")\n",
    "space = \" \"\n",
    "set_s = set(s.lower())\n",
    "if space in set_s:\n",
    "    set_s.remove(\" \") # Removes whitespaces from the string.\n",
    "print(set_s == set(string.ascii_lowercase))"
   ]
  },
  {
   "cell_type": "markdown",
   "metadata": {},
   "source": [
    "### Method - II"
   ]
  },
  {
   "cell_type": "code",
   "execution_count": null,
   "metadata": {},
   "outputs": [],
   "source": [
    "import string\n",
    "\n",
    "s = \"microsoft surface\"\n",
    "is_pangram = True\n",
    "\n",
    "for char in string.ascii_lowercase:\n",
    "    if char not in s.lower():\n",
    "        is_pangram = False\n",
    "        break  # Of course, stops the loop.\n",
    "print(is_pangram)"
   ]
  },
  {
   "cell_type": "markdown",
   "metadata": {},
   "source": [
    "# Program - V\n",
    "## Program to remove whitespaces in a string.\n",
    "### Words should be connected in the final string.\n",
    "### If the string doesn't contain whitespaces, print intact.\n"
   ]
  },
  {
   "cell_type": "code",
   "execution_count": null,
   "metadata": {},
   "outputs": [],
   "source": [
    "str = input(\"Enter the string :\")\n",
    "space = \" \"\n",
    "\n",
    "print(str.replace(space,\"\"))"
   ]
  },
  {
   "cell_type": "markdown",
   "metadata": {},
   "source": [
    "### Method -II"
   ]
  },
  {
   "cell_type": "code",
   "execution_count": null,
   "metadata": {},
   "outputs": [],
   "source": [
    "str = input(\"Enter the string : \")\n",
    "str2 = \"\"\n",
    "\n",
    "for char in str:\n",
    "    if char != \" \":\n",
    "        str2 += char\n",
    "    \n",
    "print(str2)"
   ]
  },
  {
   "cell_type": "markdown",
   "metadata": {},
   "source": [
    "## 6. Program to check if a string starts with a prefix\n",
    "If it does, print True. Else, print False.\n",
    "CASE-SENSITIVE.\n",
    "If length of the prefix is greater than the lenght of the string, print False."
   ]
  },
  {
   "cell_type": "code",
   "execution_count": null,
   "metadata": {},
   "outputs": [],
   "source": [
    "def prefix_check():\n",
    "    str = input(\"Enter the input :\")\n",
    "    if str.startswith(\"mic\"):\n",
    "        return True\n",
    "    else:\n",
    "        return False\n",
    "\n",
    "prefix_check()"
   ]
  },
  {
   "cell_type": "markdown",
   "metadata": {},
   "source": [
    "Without function."
   ]
  },
  {
   "cell_type": "code",
   "execution_count": null,
   "metadata": {},
   "outputs": [],
   "source": [
    "str = input(\"Enter the output\")\n",
    "\n",
    "prefix = \"micr\"\n",
    "print(str.startswith(prefix)) # Return True or False depending on the string - prefix match.\n"
   ]
  },
  {
   "cell_type": "markdown",
   "metadata": {},
   "source": [
    "Method - III Using string slicing."
   ]
  },
  {
   "cell_type": "code",
   "execution_count": 11,
   "metadata": {},
   "outputs": [
    {
     "name": "stdout",
     "output_type": "stream",
     "text": [
      "True\n"
     ]
    }
   ],
   "source": [
    "\n",
    "str = input(\"Enter the string.\")\n",
    "prefix = 'ado'\n",
    "\n",
    "print(str[:len(prefix)] == prefix)"
   ]
  },
  {
   "cell_type": "code",
   "execution_count": null,
   "metadata": {},
   "outputs": [],
   "source": []
  }
 ],
 "metadata": {
  "kernelspec": {
   "display_name": "Python 3.10.6 64-bit (windows store)",
   "language": "python",
   "name": "python3"
  },
  "language_info": {
   "codemirror_mode": {
    "name": "ipython",
    "version": 3
   },
   "file_extension": ".py",
   "mimetype": "text/x-python",
   "name": "python",
   "nbconvert_exporter": "python",
   "pygments_lexer": "ipython3",
   "version": "3.10.6"
  },
  "orig_nbformat": 4,
  "vscode": {
   "interpreter": {
    "hash": "ee6a90de16fa12afd53d40252d15864a0ff737146c89d44f557aa67667fba998"
   }
  }
 },
 "nbformat": 4,
 "nbformat_minor": 2
}
